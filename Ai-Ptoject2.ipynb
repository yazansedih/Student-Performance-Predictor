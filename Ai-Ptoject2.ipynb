{
 "cells": [
  {
   "cell_type": "code",
   "execution_count": 53,
   "id": "e9ac9621-8c95-4fc4-8567-d5cebef5def5",
   "metadata": {},
   "outputs": [
    {
     "name": "stdout",
     "output_type": "stream",
     "text": [
      "hello\n"
     ]
    }
   ],
   "source": [
    "import numpy as np\n",
    "import pandas as pd\n",
    "from sklearn.model_selection import train_test_split\n",
    "from sklearn.linear_model import Perceptron\n",
    "from sklearn.metrics import accuracy_score\n",
    "import joblib\n",
    "import tkinter as tk\n",
    "from tkinter import messagebox"
   ]
  },
  {
   "cell_type": "code",
   "execution_count": 44,
   "id": "1824c077-5162-411d-b20a-d2318da0a843",
   "metadata": {},
   "outputs": [],
   "source": [
    "data = {\n",
    "    'Math': [80, 90, 50, 60, 70],\n",
    "    'Science': [85, 95, 55, 65, 75],\n",
    "    'English': [78, 88, 58, 68, 72],\n",
    "    'Pass': [1, 1, 0, 0, 1]\n",
    "}"
   ]
  },
  {
   "cell_type": "code",
   "execution_count": 47,
   "id": "cd51b480-613c-4dce-a90c-c98b101876df",
   "metadata": {},
   "outputs": [],
   "source": [
    "df = pd.DataFrame(data)\n",
    "df.to_csv('student_scores.csv', index=False)"
   ]
  },
  {
   "cell_type": "code",
   "execution_count": 50,
   "id": "00a27fd4-1ff0-4269-a985-b7b085d67e47",
   "metadata": {},
   "outputs": [
    {
     "data": {
      "text/html": [
       "<div>\n",
       "<style scoped>\n",
       "    .dataframe tbody tr th:only-of-type {\n",
       "        vertical-align: middle;\n",
       "    }\n",
       "\n",
       "    .dataframe tbody tr th {\n",
       "        vertical-align: top;\n",
       "    }\n",
       "\n",
       "    .dataframe thead th {\n",
       "        text-align: right;\n",
       "    }\n",
       "</style>\n",
       "<table border=\"1\" class=\"dataframe\">\n",
       "  <thead>\n",
       "    <tr style=\"text-align: right;\">\n",
       "      <th></th>\n",
       "      <th>Math</th>\n",
       "      <th>Science</th>\n",
       "      <th>English</th>\n",
       "      <th>Pass</th>\n",
       "    </tr>\n",
       "  </thead>\n",
       "  <tbody>\n",
       "    <tr>\n",
       "      <th>0</th>\n",
       "      <td>80</td>\n",
       "      <td>85</td>\n",
       "      <td>78</td>\n",
       "      <td>1</td>\n",
       "    </tr>\n",
       "    <tr>\n",
       "      <th>1</th>\n",
       "      <td>90</td>\n",
       "      <td>95</td>\n",
       "      <td>88</td>\n",
       "      <td>1</td>\n",
       "    </tr>\n",
       "    <tr>\n",
       "      <th>2</th>\n",
       "      <td>50</td>\n",
       "      <td>55</td>\n",
       "      <td>58</td>\n",
       "      <td>0</td>\n",
       "    </tr>\n",
       "    <tr>\n",
       "      <th>3</th>\n",
       "      <td>60</td>\n",
       "      <td>65</td>\n",
       "      <td>68</td>\n",
       "      <td>0</td>\n",
       "    </tr>\n",
       "    <tr>\n",
       "      <th>4</th>\n",
       "      <td>70</td>\n",
       "      <td>75</td>\n",
       "      <td>72</td>\n",
       "      <td>1</td>\n",
       "    </tr>\n",
       "  </tbody>\n",
       "</table>\n",
       "</div>"
      ],
      "text/plain": [
       "   Math  Science  English  Pass\n",
       "0    80       85       78     1\n",
       "1    90       95       88     1\n",
       "2    50       55       58     0\n",
       "3    60       65       68     0\n",
       "4    70       75       72     1"
      ]
     },
     "execution_count": 50,
     "metadata": {},
     "output_type": "execute_result"
    }
   ],
   "source": [
    "df"
   ]
  },
  {
   "cell_type": "code",
   "execution_count": null,
   "id": "3fbc12eb-c919-411e-a348-6f52988cdb55",
   "metadata": {},
   "outputs": [],
   "source": [
    "# Data preparation and model training\n",
    "def prepare_and_train_model():\n",
    "    # Sample dataset\n",
    "    data = {\n",
    "        'Math': [80, 90, 50, 60, 70],\n",
    "        'Science': [85, 95, 55, 65, 75],\n",
    "        'English': [78, 88, 58, 68, 72],\n",
    "        'Pass': [1, 1, 0, 0, 1]\n",
    "    }\n",
    "\n",
    "    # Create a DataFrame and save to CSV\n",
    "    df = pd.DataFrame(data)\n",
    "    df.to_csv('student_scores.csv', index=False)\n",
    "\n",
    "    # Load dataset\n",
    "    df = pd.read_csv('student_scores.csv')\n",
    "    X = df[['Math', 'Science', 'English']]\n",
    "    y = df['Pass']\n",
    "\n",
    "    # Split the dataset\n",
    "    X_train, X_test, y_train, y_test = train_test_split(X, y, test_size=0.2, random_state=42)\n",
    "\n",
    "    # Initialize and train the perceptron\n",
    "    perceptron = Perceptron()\n",
    "    perceptron.fit(X_train, y_train)\n",
    "\n",
    "    # Test the model\n",
    "    y_pred = perceptron.predict(X_test)\n",
    "    print(f'Accuracy: {accuracy_score(y_test, y_pred)}')\n",
    "\n",
    "    # Save the model\n",
    "    joblib.dump(perceptron, 'perceptron_model.pkl')\n"
   ]
  },
  {
   "cell_type": "code",
   "execution_count": null,
   "id": "8e453f85-a9da-4e5a-8c92-cbd1d0ae93b0",
   "metadata": {},
   "outputs": [],
   "source": [
    "# GUI prediction\n",
    "def predict():\n",
    "    try:\n",
    "        math = float(entry_math.get())\n",
    "        science = float(entry_science.get())\n",
    "        english = float(entry_english.get())\n",
    "        data = [[math, science, english]]\n",
    "        prediction = perceptron.predict(data)\n",
    "        result = 'Pass' if prediction[0] == 1 else 'Fail'\n",
    "        messagebox.showinfo(\"Result\", f'The prediction is: {result}')\n",
    "    except ValueError:\n",
    "        messagebox.showerror(\"Input error\", \"Please enter valid numerical values.\")\n"
   ]
  },
  {
   "cell_type": "code",
   "execution_count": null,
   "id": "f60e2d4d-88c7-434b-b826-b43de22ae48d",
   "metadata": {},
   "outputs": [],
   "source": [
    "# Run model preparation and training\n",
    "prepare_and_train_model()\n"
   ]
  },
  {
   "cell_type": "code",
   "execution_count": null,
   "id": "d508bb13-f240-46dd-81f7-9db26f0fb3cc",
   "metadata": {},
   "outputs": [],
   "source": [
    "# Load the trained perceptron model\n",
    "perceptron = joblib.load('perceptron_model.pkl')"
   ]
  },
  {
   "cell_type": "code",
   "execution_count": null,
   "id": "70cb373b-b6e6-42d7-a501-80e7d7d8d6ed",
   "metadata": {},
   "outputs": [],
   "source": [
    "# GUI setup\n",
    "root = tk.Tk()\n",
    "root.title(\"Pass/Fail Predictor\")\n",
    "\n",
    "tk.Label(root, text=\"Math:\").grid(row=0)\n",
    "tk.Label(root, text=\"Science:\").grid(row=1)\n",
    "tk.Label(root, text=\"English:\").grid(row=2)\n",
    "\n",
    "entry_math = tk.Entry(root)\n",
    "entry_science = tk.Entry(root)\n",
    "entry_english = tk.Entry(root)\n",
    "\n",
    "entry_math.grid(row=0, column=1)\n",
    "entry_science.grid(row=1, column=1)\n",
    "entry_english.grid(row=2, column=1)\n",
    "\n",
    "tk.Button(root, text='Predict', command=predict).grid(row=3, column=1, pady=4)\n",
    "\n",
    "root.mainloop()"
   ]
  },
  {
   "cell_type": "code",
   "execution_count": null,
   "id": "41697d13-2869-4bf4-addc-505529de7af9",
   "metadata": {},
   "outputs": [],
   "source": []
  }
 ],
 "metadata": {
  "kernelspec": {
   "display_name": "Python 3 (ipykernel)",
   "language": "python",
   "name": "python3"
  },
  "language_info": {
   "codemirror_mode": {
    "name": "ipython",
    "version": 3
   },
   "file_extension": ".py",
   "mimetype": "text/x-python",
   "name": "python",
   "nbconvert_exporter": "python",
   "pygments_lexer": "ipython3",
   "version": "3.11.7"
  }
 },
 "nbformat": 4,
 "nbformat_minor": 5
}
